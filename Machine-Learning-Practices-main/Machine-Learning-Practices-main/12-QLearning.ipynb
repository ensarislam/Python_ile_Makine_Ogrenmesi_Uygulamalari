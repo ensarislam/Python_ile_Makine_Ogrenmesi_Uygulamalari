{
 "cells": [
  {
   "cell_type": "code",
   "execution_count": 1,
   "id": "e84b6829-8586-4062-8390-9b600e0f0532",
   "metadata": {
    "tags": []
   },
   "outputs": [],
   "source": [
    "import gym\n",
    "import random \n",
    "import numpy as np \n",
    "import pandas as pd\n",
    "import matplotlib.pyplot as plt\n",
    "from tqdm import tqdm"
   ]
  },
  {
   "cell_type": "code",
   "execution_count": null,
   "id": "80d6e7f9-1731-485a-877d-83938da6b8e8",
   "metadata": {},
   "outputs": [],
   "source": [
    "# Environment --> Frozen Lake-Donmuş Göl\n",
    "#     S : starting point , safe \n",
    "#     F : frozen surface , safe \n",
    "#     H : hole , stuck forever \n",
    "#     G : goal , safe\n",
    "# Ajan(model) , environment içinde deneme-yanılma yoluyla actionlar gerçekleştirip bu actionlar sonucunda ortamdan \n",
    "# reward(ödül ya da ceza) alıp hedefini gerçekleştirmeye çalışır. Bunu yaparken öğrendiği bilgileri q-table'da tutar."
   ]
  },
  {
   "cell_type": "code",
   "execution_count": 2,
   "id": "69d641a2-4abb-4c89-b5e3-51723b4b5b32",
   "metadata": {
    "tags": []
   },
   "outputs": [],
   "source": [
    "environment= gym.make(\"FrozenLake-v1\", is_slippery = False, render_mode = \"ansi\")"
   ]
  },
  {
   "cell_type": "code",
   "execution_count": 3,
   "id": "cf2cfd7d-f181-4070-a471-ee6f0d094b82",
   "metadata": {
    "tags": []
   },
   "outputs": [
    {
     "data": {
      "text/plain": [
       "(0, {'prob': 1})"
      ]
     },
     "execution_count": 3,
     "metadata": {},
     "output_type": "execute_result"
    }
   ],
   "source": [
    "environment.reset()"
   ]
  },
  {
   "cell_type": "code",
   "execution_count": 4,
   "id": "61ff8bac-3d6c-4dbd-bfff-0f5a1498f094",
   "metadata": {
    "tags": []
   },
   "outputs": [
    {
     "name": "stdout",
     "output_type": "stream",
     "text": [
      "\n",
      "\u001b[41mS\u001b[0mFFF\n",
      "FHFH\n",
      "FFFH\n",
      "HFFG\n",
      "\n"
     ]
    }
   ],
   "source": [
    "print(environment.render())"
   ]
  },
  {
   "cell_type": "code",
   "execution_count": 5,
   "id": "2a7eb461-2bc4-461d-84cb-25168ca40640",
   "metadata": {
    "tags": []
   },
   "outputs": [
    {
     "data": {
      "text/plain": [
       "16"
      ]
     },
     "execution_count": 5,
     "metadata": {},
     "output_type": "execute_result"
    }
   ],
   "source": [
    "nb_states = environment.observation_space.n\n",
    "nb_states"
   ]
  },
  {
   "cell_type": "code",
   "execution_count": 6,
   "id": "7000f60d-7912-4f33-bdfa-2f1fe0b5fb3a",
   "metadata": {
    "tags": []
   },
   "outputs": [
    {
     "data": {
      "text/plain": [
       "4"
      ]
     },
     "execution_count": 6,
     "metadata": {},
     "output_type": "execute_result"
    }
   ],
   "source": [
    "nb_action = environment.action_space.n\n",
    "nb_action"
   ]
  },
  {
   "cell_type": "code",
   "execution_count": null,
   "id": "7ae2cca8-74f8-4250-9d9e-d2041059b937",
   "metadata": {},
   "outputs": [],
   "source": [
    "# 4 action ; Move Left: 0  |  Move Down: 1  |  Move Right: 2  |  Move Up: 3 "
   ]
  },
  {
   "cell_type": "code",
   "execution_count": 7,
   "id": "b0774281-e599-4fc7-9fb9-24c204438bb0",
   "metadata": {
    "tags": []
   },
   "outputs": [
    {
     "data": {
      "text/plain": [
       "array([[0., 0., 0., 0.],\n",
       "       [0., 0., 0., 0.],\n",
       "       [0., 0., 0., 0.],\n",
       "       [0., 0., 0., 0.],\n",
       "       [0., 0., 0., 0.],\n",
       "       [0., 0., 0., 0.],\n",
       "       [0., 0., 0., 0.],\n",
       "       [0., 0., 0., 0.],\n",
       "       [0., 0., 0., 0.],\n",
       "       [0., 0., 0., 0.],\n",
       "       [0., 0., 0., 0.],\n",
       "       [0., 0., 0., 0.],\n",
       "       [0., 0., 0., 0.],\n",
       "       [0., 0., 0., 0.],\n",
       "       [0., 0., 0., 0.],\n",
       "       [0., 0., 0., 0.]])"
      ]
     },
     "execution_count": 7,
     "metadata": {},
     "output_type": "execute_result"
    }
   ],
   "source": [
    "q_table = np.zeros((nb_states,nb_action))\n",
    "q_table"
   ]
  },
  {
   "cell_type": "code",
   "execution_count": 10,
   "id": "4517c80f-cc4f-4566-ab77-720fa7f8fcdb",
   "metadata": {
    "tags": []
   },
   "outputs": [],
   "source": [
    "action = environment.action_space.sample()"
   ]
  },
  {
   "cell_type": "code",
   "execution_count": 11,
   "id": "8a146dff-e35a-454c-847b-15ae9dc8e000",
   "metadata": {
    "tags": []
   },
   "outputs": [
    {
     "data": {
      "text/plain": [
       "3"
      ]
     },
     "execution_count": 11,
     "metadata": {},
     "output_type": "execute_result"
    }
   ],
   "source": [
    "action"
   ]
  },
  {
   "cell_type": "code",
   "execution_count": null,
   "id": "b82750c6-0045-43ec-922a-bcd3154950ed",
   "metadata": {},
   "outputs": [],
   "source": [
    "# Ajan, environment içinde seçilen action'a göre hareket eder."
   ]
  },
  {
   "cell_type": "code",
   "execution_count": 13,
   "id": "33144ea8-65e6-48df-96b2-ccb1da45c898",
   "metadata": {
    "tags": []
   },
   "outputs": [],
   "source": [
    "new_state, reward , done , info , _ = environment.step(action)"
   ]
  },
  {
   "cell_type": "code",
   "execution_count": 14,
   "id": "75acdb39-bb9b-4cdf-b6df-dc818962d4e6",
   "metadata": {
    "tags": []
   },
   "outputs": [
    {
     "data": {
      "text/plain": [
       "(0, 0.0, False, False)"
      ]
     },
     "execution_count": 14,
     "metadata": {},
     "output_type": "execute_result"
    }
   ],
   "source": [
    "(new_state, reward , done , info)"
   ]
  },
  {
   "cell_type": "code",
   "execution_count": null,
   "id": "0a542fe2-5074-4695-b030-3c7f65962fda",
   "metadata": {},
   "outputs": [],
   "source": [
    "# training : Ajan, environment içinde actionlara göre hareket ederek hedefine ulaşmaya çalışır. Actionlar sonucunda \n",
    "# içerisinde bulunduğu state durumlarına göre Q-table oluşur. \n",
    "\n",
    "# test : Ajanın, environment içinde q_table'ı kullanarak hareket etmesini ve ödüle ulaşması sağlanır. Test kısmında modelin \n",
    "# başarı durumunu gözlemleriz."
   ]
  },
  {
   "cell_type": "code",
   "execution_count": 15,
   "id": "1c1b14b1-40fa-462e-af89-1160ef7d9c90",
   "metadata": {
    "tags": []
   },
   "outputs": [
    {
     "name": "stdout",
     "output_type": "stream",
     "text": [
      "Q-table\n",
      "[[0. 0. 0. 0.]\n",
      " [0. 0. 0. 0.]\n",
      " [0. 0. 0. 0.]\n",
      " [0. 0. 0. 0.]\n",
      " [0. 0. 0. 0.]\n",
      " [0. 0. 0. 0.]\n",
      " [0. 0. 0. 0.]\n",
      " [0. 0. 0. 0.]\n",
      " [0. 0. 0. 0.]\n",
      " [0. 0. 0. 0.]\n",
      " [0. 0. 0. 0.]\n",
      " [0. 0. 0. 0.]\n",
      " [0. 0. 0. 0.]\n",
      " [0. 0. 0. 0.]\n",
      " [0. 0. 0. 0.]\n",
      " [0. 0. 0. 0.]]\n"
     ]
    },
    {
     "name": "stderr",
     "output_type": "stream",
     "text": [
      "100%|██████████| 1000/1000 [00:00<00:00, 1835.61it/s]\n"
     ]
    },
    {
     "name": "stdout",
     "output_type": "stream",
     "text": [
      "Qtable After Training: \n",
      "[[0.      0.59049 0.      0.     ]\n",
      " [0.      0.      0.      0.     ]\n",
      " [0.      0.      0.      0.     ]\n",
      " [0.      0.      0.      0.     ]\n",
      " [0.      0.6561  0.      0.     ]\n",
      " [0.      0.      0.      0.     ]\n",
      " [0.      0.      0.      0.     ]\n",
      " [0.      0.      0.      0.     ]\n",
      " [0.      0.      0.729   0.     ]\n",
      " [0.      0.81    0.      0.     ]\n",
      " [0.      0.      0.      0.     ]\n",
      " [0.      0.      0.      0.     ]\n",
      " [0.      0.      0.      0.     ]\n",
      " [0.      0.      0.9     0.     ]\n",
      " [0.      0.      1.      0.     ]\n",
      " [0.      0.      0.      0.     ]]\n"
     ]
    },
    {
     "name": "stderr",
     "output_type": "stream",
     "text": [
      "100%|██████████| 100/100 [00:00<00:00, 2463.76it/s]\n"
     ]
    },
    {
     "name": "stdout",
     "output_type": "stream",
     "text": [
      "Success rate :  100.0\n"
     ]
    },
    {
     "data": {
      "image/png": "[encoded data removed]",
      "text/plain": [
       "<Figure size 640x480 with 1 Axes>"
      ]
     },
     "metadata": {},
     "output_type": "display_data"
    }
   ],
   "source": [
    "environment= gym.make(\"FrozenLake-v1\", is_slippery = False, render_mode = \"ansi\")\n",
    "environment.reset()\n",
    "\n",
    "# qtable oluşturma\n",
    "nb_states = environment.observation_space.n \n",
    "nb_actions = environment.action_space.n\n",
    "q_table = np.zeros((nb_states, nb_actions))\n",
    "print(\"Q-table\")\n",
    "print(q_table)\n",
    "\n",
    "episodes = 1000   # episode\n",
    "alpha = 0.5       # learning rate\n",
    "gamma = 0.9       # discount rate\n",
    "\n",
    "outcames = []\n",
    "\n",
    "#training\n",
    "for _ in tqdm(range(episodes)):\n",
    "    \n",
    "    state, _ = environment.reset()   # ajanın başlangıç state'i\n",
    "    done = False                     # ajanın başarı durumu\n",
    "    outcames.append(\"Failure\")\n",
    "    \n",
    "    while not done:                  # ajan başarılı olana kdr state içinde hareket et (action seç ve uygula)\n",
    "        \n",
    "        # action\n",
    "        if np.max(q_table[state]) > 0 :\n",
    "            action = np.argmax(q_table[state])\n",
    "        else:\n",
    "            action = environment.action_space.sample()\n",
    "            \n",
    "        # ajan actionları environment içinde uygular. (Yeni bir state'e geçer ve reward alır.)\n",
    "        new_state , reward , done , info , _  = environment.step(action)\n",
    "        \n",
    "        # update q table\n",
    "        q_table[state, action] =  q_table[state, action] + alpha * (reward + gamma * np.max(q_table[new_state]) - q_table[state, action])\n",
    "        \n",
    "        state = new_state\n",
    "        \n",
    "        if reward :             # bölüm bittiyse ajan başarılı olur.\n",
    "            outcames[-1] = \"Success\"\n",
    "            \n",
    "print(\"Qtable After Training: \")\n",
    "print(q_table)\n",
    "\n",
    "plt.bar(range(episodes), outcames)\n",
    "\n",
    "# test\n",
    "episodes = 100\n",
    "nb_success = 0\n",
    "\n",
    "for _ in tqdm(range(episodes)):\n",
    "    \n",
    "    state, _ = environment.reset()     \n",
    "    done = False                       \n",
    "    \n",
    "    while not done:                    \n",
    "        if np.max(q_table[state]) > 0 :\n",
    "            action = np.argmax(q_table[state])\n",
    "        else:\n",
    "            action = environment.action_space.sample()\n",
    "            \n",
    "        new_state , reward , done , info , _  = environment.step(action)\n",
    "        state = new_state\n",
    "        nb_success += reward\n",
    "        \n",
    "print(\"Success rate : \",100*nb_success/episodes)"
   ]
  },
  {
   "cell_type": "code",
   "execution_count": null,
   "id": "95c4f55b-ded0-41b1-ae93-e8de3c44922e",
   "metadata": {},
   "outputs": [],
   "source": []
  }
 ],
 "metadata": {
  "kernelspec": {
   "display_name": "Python 3 (ipykernel)",
   "language": "python",
   "name": "python3"
  },
  "language_info": {
   "codemirror_mode": {
    "name": "ipython",
    "version": 3
   },
   "file_extension": ".py",
   "mimetype": "text/x-python",
   "name": "python",
   "nbconvert_exporter": "python",
   "pygments_lexer": "ipython3",
   "version": "3.11.3"
  }
 },
 "nbformat": 4,
 "nbformat_minor": 5
}
