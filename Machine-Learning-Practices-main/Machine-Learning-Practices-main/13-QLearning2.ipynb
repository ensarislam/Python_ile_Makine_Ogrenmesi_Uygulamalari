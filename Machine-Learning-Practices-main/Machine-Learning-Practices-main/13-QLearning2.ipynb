{
 "cells": [
  {
   "cell_type": "code",
   "execution_count": 1,
   "id": "545d6636-9179-4eeb-ad18-1ba13b2bc68d",
   "metadata": {
    "tags": []
   },
   "outputs": [],
   "source": [
    "import gym\n",
    "import random \n",
    "import numpy as np \n",
    "import pandas as pd\n",
    "import matplotlib.pyplot as plt\n",
    "from tqdm import tqdm\n",
    "\n",
    "import warnings\n",
    "warnings.filterwarnings(\"ignore\")"
   ]
  },
  {
   "cell_type": "code",
   "execution_count": null,
   "id": "41758bc2-7a4e-41c8-bccb-c831270ce072",
   "metadata": {},
   "outputs": [],
   "source": [
    "# Taxi environment\n",
    "# Passenger location : 0(Red), 1(Green), 2(Yellow), 3(Blue), 4(in taxi)  --> yolcunun bulunduğu yerler\n",
    "# Destinations : 0(Red), 1(Green), 2(Yellow), 3(Blue) --> yolcuyu nereye bırakıcaz\n",
    "# Action Space : \n",
    "#                 0: Move south (down)\n",
    "#                 1: Move north (up)\n",
    "#                 2: Move east (right)\n",
    "#                 3: Move west (left)\n",
    "#                 4: Pickup passenger\n",
    "#                 5: Drop off passenger"
   ]
  },
  {
   "cell_type": "code",
   "execution_count": 2,
   "id": "169836e4-8a4b-4c51-ba45-091df379f218",
   "metadata": {
    "tags": []
   },
   "outputs": [
    {
     "name": "stdout",
     "output_type": "stream",
     "text": [
      "+---------+\n",
      "|R: |\u001b[43m \u001b[0m: :\u001b[34;1mG\u001b[0m|\n",
      "| : | : : |\n",
      "| : : : : |\n",
      "| | : | : |\n",
      "|Y| : |\u001b[35mB\u001b[0m: |\n",
      "+---------+\n",
      "\n",
      "\n"
     ]
    }
   ],
   "source": [
    "env = gym.make(\"Taxi-v3\", render_mode = \"ansi\")\n",
    "env.reset()\n",
    "print(env.render())"
   ]
  },
  {
   "cell_type": "code",
   "execution_count": 3,
   "id": "e9a97e33-623d-46ed-ae4a-0e237b9de460",
   "metadata": {
    "tags": []
   },
   "outputs": [
    {
     "data": {
      "text/plain": [
       "6"
      ]
     },
     "execution_count": 3,
     "metadata": {},
     "output_type": "execute_result"
    }
   ],
   "source": [
    "action_space = env.action_space.n\n",
    "action_space"
   ]
  },
  {
   "cell_type": "code",
   "execution_count": 4,
   "id": "866d8874-6c58-4b33-91a8-789975cb6580",
   "metadata": {
    "tags": []
   },
   "outputs": [
    {
     "data": {
      "text/plain": [
       "500"
      ]
     },
     "execution_count": 4,
     "metadata": {},
     "output_type": "execute_result"
    }
   ],
   "source": [
    "state_space = env.observation_space.n\n",
    "state_space"
   ]
  },
  {
   "cell_type": "code",
   "execution_count": 5,
   "id": "b2a53688-2404-4643-b2a9-337270190de4",
   "metadata": {
    "tags": []
   },
   "outputs": [
    {
     "data": {
      "text/plain": [
       "array([[0., 0., 0., 0., 0., 0.],\n",
       "       [0., 0., 0., 0., 0., 0.],\n",
       "       [0., 0., 0., 0., 0., 0.],\n",
       "       ...,\n",
       "       [0., 0., 0., 0., 0., 0.],\n",
       "       [0., 0., 0., 0., 0., 0.],\n",
       "       [0., 0., 0., 0., 0., 0.]])"
      ]
     },
     "execution_count": 5,
     "metadata": {},
     "output_type": "execute_result"
    }
   ],
   "source": [
    "q_table = np.zeros((state_space,action_space))\n",
    "q_table"
   ]
  },
  {
   "cell_type": "code",
   "execution_count": null,
   "id": "1feb84cc-ce23-41a6-9e71-4876948a6c27",
   "metadata": {},
   "outputs": [],
   "source": [
    "# training : Ajanın, environment'ı keşfetmesini sağlar. Ajan, environment içinde actionlara göre hareket ederek hedefine \n",
    "# ulaşmaya çalışır. Actionlar sonucunda içerisinde bulunduğu state durumlarına göre Q-table oluşur. \n",
    "\n",
    "# test : Ajanın, environment içinde q_table'ı kullanarak hareket etmesi ve ödüle ulaşması sağlanır. Her bölümün ortalama olarak\n",
    "# ne kadar sürede çözüldüğü ve ne kadar ceza aldığı yazdırılır."
   ]
  },
  {
   "cell_type": "code",
   "execution_count": 6,
   "id": "a502b088-c638-440c-8463-411404f8c96c",
   "metadata": {
    "tags": []
   },
   "outputs": [
    {
     "name": "stderr",
     "output_type": "stream",
     "text": [
      "100%|██████████| 100000/100000 [02:24<00:00, 694.35it/s]\n"
     ]
    },
    {
     "name": "stdout",
     "output_type": "stream",
     "text": [
      "Training Finished\n"
     ]
    },
    {
     "name": "stderr",
     "output_type": "stream",
     "text": [
      "100%|██████████| 100/100 [00:00<00:00, 1280.77it/s]"
     ]
    },
    {
     "name": "stdout",
     "output_type": "stream",
     "text": [
      "Result after 100 episodes\n",
      "Average timesteps per episode:  12.64\n",
      "Average penalties per episode:  0.0\n"
     ]
    },
    {
     "name": "stderr",
     "output_type": "stream",
     "text": [
      "\n"
     ]
    }
   ],
   "source": [
    "env = gym.make(\"Taxi-v3\", render_mode = \"ansi\")\n",
    "env.reset()\n",
    "\n",
    "action_space = env.action_space.n\n",
    "state_space = env.observation_space.n\n",
    "q_table = np.zeros((state_space,action_space))\n",
    "\n",
    "alpha = 0.1    # learning rate\n",
    "gamma = 0.6    # discount rate\n",
    "epsilon = 0.1  # epsilon\n",
    "\n",
    "# training\n",
    "for i in tqdm(range(1, 100001)):\n",
    "    \n",
    "    state, _ = env.reset()\n",
    "    done = False\n",
    "    \n",
    "    while not done:\n",
    "        \n",
    "        if random.uniform(0,1) < epsilon:        # explore\n",
    "            action = env.action_space.sample()   \n",
    "        else:                                    # exploit\n",
    "            action = np.argmax(q_table[state])\n",
    "            \n",
    "        new_state, reward, done, info, _ = env.step(action)\n",
    "        \n",
    "        # update q table\n",
    "        q_table[state,action] = q_table[state,action] + alpha*(reward + gamma* np.max(q_table[new_state]) - q_table[state,action])\n",
    "        \n",
    "        state = new_state\n",
    "        \n",
    "print(\"Training Finished\")\n",
    "\n",
    "\n",
    "# test\n",
    "total_epoch , total_penalties = 0,0\n",
    "episodes = 100\n",
    "\n",
    "for i in tqdm(range(episodes)):\n",
    "    \n",
    "    state, _ = env.reset()\n",
    "    epochs, penalties, reward = 0,0,0\n",
    "    done = False\n",
    "    \n",
    "    while not done:\n",
    "        \n",
    "        action = np.argmax(q_table[state])\n",
    "        new_state , reward , done , info , _  = env.step(action)        \n",
    "        state = new_state\n",
    "        \n",
    "        if reward == -10:\n",
    "            penalties += 1\n",
    "            \n",
    "        epochs += 1\n",
    "    \n",
    "    total_epoch += epochs\n",
    "    total_penalties += penalties\n",
    "    \n",
    "print(\"Result after {} episodes\".format(episodes))\n",
    "print(\"Average timesteps per episode: \",total_epoch/episodes)\n",
    "print(\"Average penalties per episode: \",total_penalties/episodes)"
   ]
  },
  {
   "cell_type": "code",
   "execution_count": null,
   "id": "4ad45765-1076-4286-8aec-d78715eaf3ed",
   "metadata": {},
   "outputs": [],
   "source": []
  }
 ],
 "metadata": {
  "kernelspec": {
   "display_name": "Python 3 (ipykernel)",
   "language": "python",
   "name": "python3"
  },
  "language_info": {
   "codemirror_mode": {
    "name": "ipython",
    "version": 3
   },
   "file_extension": ".py",
   "mimetype": "text/x-python",
   "name": "python",
   "nbconvert_exporter": "python",
   "pygments_lexer": "ipython3",
   "version": "3.11.3"
  }
 },
 "nbformat": 4,
 "nbformat_minor": 5
}
