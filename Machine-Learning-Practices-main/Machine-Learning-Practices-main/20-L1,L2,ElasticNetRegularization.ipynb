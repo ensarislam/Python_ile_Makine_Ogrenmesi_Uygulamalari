{
 "cells": [
  {
   "cell_type": "code",
   "execution_count": null,
   "id": "8d8929f1-6ca8-4a82-ba29-d61bdd8f904b",
   "metadata": {},
   "outputs": [],
   "source": [
    "# Ridge ve Lasso Regresyon modellerini kullanarak en iyi hiperparametreleri buluruz ve onları kullanarak test veri seti ile \n",
    "# modelimizin sonuçlarını inceleriz."
   ]
  },
  {
   "cell_type": "code",
   "execution_count": 1,
   "id": "3d431ae6-209a-476e-9c66-c20882e2fa15",
   "metadata": {
    "tags": []
   },
   "outputs": [],
   "source": [
    "from sklearn.datasets import load_diabetes\n",
    "from sklearn.model_selection import train_test_split, GridSearchCV\n",
    "from sklearn.linear_model import Ridge,Lasso\n",
    "from sklearn.metrics import mean_squared_error"
   ]
  },
  {
   "cell_type": "code",
   "execution_count": 4,
   "id": "1bca9488-b0a1-4e4c-8700-86d20959fa50",
   "metadata": {
    "tags": []
   },
   "outputs": [],
   "source": [
    "diabetes = load_diabetes()\n",
    "X = diabetes.data\n",
    "y = diabetes.target"
   ]
  },
  {
   "cell_type": "code",
   "execution_count": 5,
   "id": "40331c9f-1026-4ce9-82f5-4f367971bd8c",
   "metadata": {
    "tags": []
   },
   "outputs": [],
   "source": [
    "X_train,X_test,y_train,y_test = train_test_split(X,y, test_size=0.2, random_state=42)"
   ]
  },
  {
   "cell_type": "code",
   "execution_count": 6,
   "id": "cf097e2e-4337-444a-9ec5-750153993280",
   "metadata": {
    "tags": []
   },
   "outputs": [
    {
     "name": "stdout",
     "output_type": "stream",
     "text": [
      "Ridge en iyi parameters :  {'alpha': 0.1}\n",
      "Ridge en iyi score :  0.45647798015266455\n",
      "ridge_mse:  2856.4868876706537\n",
      "Lasso en iyi parameters :  {'alpha': 0.1}\n",
      "Lasso en iyi score :  0.4555104983088939\n",
      "lasso_mse:  2798.1934851697188\n"
     ]
    }
   ],
   "source": [
    "# Ridge\n",
    "\n",
    "ridge = Ridge()\n",
    "ridge_param_grid = {\"alpha\" : [0.1, 1, 10, 100]}\n",
    "\n",
    "ridge_grid_search = GridSearchCV(ridge, ridge_param_grid, cv = 5)\n",
    "ridge_grid_search.fit(X_train,y_train)\n",
    "print(\"Ridge en iyi parameters : \", ridge_grid_search.best_params_)\n",
    "print(\"Ridge en iyi score : \", ridge_grid_search.best_score_)\n",
    "\n",
    "best_ridge_model = ridge_grid_search.best_estimator_ \n",
    "y_pred_ridge = best_ridge_model.predict(X_test)\n",
    "ridge_mse = mean_squared_error(y_test,y_pred_ridge)\n",
    "print(\"ridge_mse: \",ridge_mse)\n",
    "\n",
    "\n",
    "# Lasso\n",
    "\n",
    "lasso = Lasso()\n",
    "lasso_param_grid = {\"alpha\" : [0.1, 1, 10, 100]}\n",
    "\n",
    "lasso_grid_search = GridSearchCV(lasso, lasso_param_grid, cv = 5)\n",
    "lasso_grid_search.fit(X_train,y_train)\n",
    "print(\"Lasso en iyi parameters : \", lasso_grid_search.best_params_)\n",
    "print(\"Lasso en iyi score : \", lasso_grid_search.best_score_)\n",
    "\n",
    "best_lasso_model = lasso_grid_search.best_estimator_\n",
    "y_pred_lasso = best_lasso_model.predict(X_test)\n",
    "lasso_mse = mean_squared_error(y_test,y_pred_lasso)\n",
    "print(\"lasso_mse: \",lasso_mse)"
   ]
  },
  {
   "cell_type": "markdown",
   "id": "366a9892-d87c-4171-99ae-39f75a462506",
   "metadata": {},
   "source": [
    "## ------------------------------------------------------------------------     \n",
    "## ElasticNet Regularization"
   ]
  },
  {
   "cell_type": "code",
   "execution_count": 7,
   "id": "4dea695f-e9b8-4770-a03d-d7ec0ad8b7f8",
   "metadata": {
    "tags": []
   },
   "outputs": [],
   "source": [
    "from sklearn.datasets import load_diabetes\n",
    "from sklearn.model_selection import train_test_split, GridSearchCV\n",
    "from sklearn.linear_model import ElasticNet\n",
    "from sklearn.metrics import mean_squared_error"
   ]
  },
  {
   "cell_type": "code",
   "execution_count": 8,
   "id": "0522ec7b-c49d-4e37-8fc4-f9775d4adf22",
   "metadata": {
    "tags": []
   },
   "outputs": [],
   "source": [
    "diabetes = load_diabetes()\n",
    "X = diabetes.data\n",
    "y = diabetes.target"
   ]
  },
  {
   "cell_type": "code",
   "execution_count": 9,
   "id": "2dd9ba08-5103-4fdd-aa3a-4a77265f424a",
   "metadata": {
    "tags": []
   },
   "outputs": [],
   "source": [
    "X_train, X_test, y_train, y_test = train_test_split(X,y, test_size=0.2, random_state=42)"
   ]
  },
  {
   "cell_type": "code",
   "execution_count": 10,
   "id": "6a3093f7-5a79-46bd-a7b0-d691f734843c",
   "metadata": {
    "tags": []
   },
   "outputs": [
    {
     "name": "stdout",
     "output_type": "stream",
     "text": [
      "en iyi parameters :  {'alpha': 0.1, 'l1_ratio': 0.9}\n",
      "en iyi score :  0.2525948988969631\n",
      "elastic_net_mse:  3792.129166396345\n"
     ]
    }
   ],
   "source": [
    "elastic_net = ElasticNet()\n",
    "elastic_net_param_grid = {\"alpha\" : [0.1, 1, 10, 100],\n",
    "                        \"l1_ratio\" : [0.1, 0.3, 0.5, 0.7, 0.9]}\n",
    "\n",
    "elastic_net_grid_search = GridSearchCV(elastic_net,elastic_net_param_grid, cv=5)\n",
    "elastic_net_grid_search.fit(X_train,y_train)\n",
    "print(\"en iyi parameters : \", elastic_net_grid_search.best_params_)\n",
    "print(\"en iyi score : \", elastic_net_grid_search.best_score_)\n",
    "\n",
    "best_elastic_net_model = elastic_net_grid_search.best_estimator_\n",
    "y_pred_elastic_net = best_elastic_net_model.predict(X_test)\n",
    "elastic_net_mse = mean_squared_error(y_test,y_pred_elastic_net)\n",
    "print(\"elastic_net_mse: \",elastic_net_mse)"
   ]
  },
  {
   "cell_type": "code",
   "execution_count": null,
   "id": "74142f2f-1e86-408d-ad9f-17cba5c2fc18",
   "metadata": {},
   "outputs": [],
   "source": []
  }
 ],
 "metadata": {
  "kernelspec": {
   "display_name": "Python 3 (ipykernel)",
   "language": "python",
   "name": "python3"
  },
  "language_info": {
   "codemirror_mode": {
    "name": "ipython",
    "version": 3
   },
   "file_extension": ".py",
   "mimetype": "text/x-python",
   "name": "python",
   "nbconvert_exporter": "python",
   "pygments_lexer": "ipython3",
   "version": "3.11.3"
  }
 },
 "nbformat": 4,
 "nbformat_minor": 5
}
