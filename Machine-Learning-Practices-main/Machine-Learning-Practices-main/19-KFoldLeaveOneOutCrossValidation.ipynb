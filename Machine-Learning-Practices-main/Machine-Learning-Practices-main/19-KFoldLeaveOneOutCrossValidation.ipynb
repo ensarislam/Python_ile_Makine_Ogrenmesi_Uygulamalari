{
 "cells": [
  {
   "cell_type": "code",
   "execution_count": 1,
   "id": "77d76cc2-b90d-4ecc-ab0e-8fa0784f2a88",
   "metadata": {
    "tags": []
   },
   "outputs": [],
   "source": [
    "from sklearn.datasets import load_iris\n",
    "from sklearn.model_selection import train_test_split,KFold,LeaveOneOut,GridSearchCV\n",
    "from sklearn.tree import DecisionTreeClassifier"
   ]
  },
  {
   "cell_type": "code",
   "execution_count": 2,
   "id": "36fba531-abf5-4c6c-b4d2-a6d99e6ba4cc",
   "metadata": {
    "tags": []
   },
   "outputs": [],
   "source": [
    "iris = load_iris()\n",
    "X = iris.data\n",
    "y = iris.target"
   ]
  },
  {
   "cell_type": "code",
   "execution_count": 3,
   "id": "e84ac07f-91e1-43e3-bed6-25c42ecb71c8",
   "metadata": {
    "tags": []
   },
   "outputs": [],
   "source": [
    "X_train,X_test,y_train,y_test = train_test_split(X,y,test_size=0.2,random_state=42)"
   ]
  },
  {
   "cell_type": "code",
   "execution_count": 4,
   "id": "e59a1659-b8b0-4dab-b2ea-96d3d73e9a14",
   "metadata": {
    "tags": []
   },
   "outputs": [
    {
     "name": "stdout",
     "output_type": "stream",
     "text": [
      "KF En iyi Parametre:  {'max_depth': 7}\n",
      "KF En iyi Accuracy:  0.9499999999999998\n",
      "LOO En iyi Parametre:  {'max_depth': 3}\n",
      "LOO En iyi Accuracy:  0.9333333333333333\n"
     ]
    }
   ],
   "source": [
    "tree = DecisionTreeClassifier()\n",
    "tree_param_dist = {\"max_depth\":[3,5,7]}\n",
    "\n",
    "# KFOLD Grid Search\n",
    "kf = KFold(n_splits=10)\n",
    "tree_grid_search_kf = GridSearchCV(tree, tree_param_dist, cv = kf)\n",
    "tree_grid_search_kf.fit(X_train,y_train)\n",
    "print(\"KF En iyi Parametre: \",tree_grid_search_kf.best_params_)\n",
    "print(\"KF En iyi Accuracy: \",tree_grid_search_kf.best_score_)\n",
    "\n",
    "# LOO\n",
    "loo = LeaveOneOut()\n",
    "tree_grid_search_loo = GridSearchCV(tree, tree_param_dist, cv = loo)\n",
    "tree_grid_search_loo.fit(X_train,y_train)\n",
    "print(\"LOO En iyi Parametre: \",tree_grid_search_loo.best_params_)\n",
    "print(\"LOO En iyi Accuracy: \",tree_grid_search_loo.best_score_)"
   ]
  },
  {
   "cell_type": "code",
   "execution_count": null,
   "id": "b2bd39b2-0255-469e-8306-92848faf03d2",
   "metadata": {},
   "outputs": [],
   "source": []
  }
 ],
 "metadata": {
  "kernelspec": {
   "display_name": "Python 3 (ipykernel)",
   "language": "python",
   "name": "python3"
  },
  "language_info": {
   "codemirror_mode": {
    "name": "ipython",
    "version": 3
   },
   "file_extension": ".py",
   "mimetype": "text/x-python",
   "name": "python",
   "nbconvert_exporter": "python",
   "pygments_lexer": "ipython3",
   "version": "3.11.3"
  }
 },
 "nbformat": 4,
 "nbformat_minor": 5
}
