{
 "cells": [
  {
   "cell_type": "code",
   "execution_count": 1,
   "id": "d547d2a9-2f6d-4d54-a307-3820e780ef80",
   "metadata": {
    "tags": []
   },
   "outputs": [],
   "source": [
    "from sklearn.datasets import load_iris\n",
    "from sklearn.model_selection import train_test_split,GridSearchCV\n",
    "from sklearn.tree import DecisionTreeClassifier"
   ]
  },
  {
   "cell_type": "code",
   "execution_count": 2,
   "id": "b4273e18-d074-4a4c-906a-171515f386e5",
   "metadata": {
    "tags": []
   },
   "outputs": [],
   "source": [
    "iris = load_iris()\n",
    "X = iris.data\n",
    "y = iris.target"
   ]
  },
  {
   "cell_type": "code",
   "execution_count": 3,
   "id": "6cd47405-8583-47f6-a861-3d59d183c7db",
   "metadata": {
    "tags": []
   },
   "outputs": [],
   "source": [
    "X_train,X_test,y_train,y_test = train_test_split(X,y,test_size=0.2,random_state=42)"
   ]
  },
  {
   "cell_type": "code",
   "execution_count": 4,
   "id": "0d8e5993-f6cb-418f-979b-5e0a09b396cc",
   "metadata": {
    "tags": []
   },
   "outputs": [
    {
     "name": "stdout",
     "output_type": "stream",
     "text": [
      "Decision Tree Grid Search Best Parameters:  {'max_depth': 3, 'max_leaf_nodes': None}\n",
      "Decision Tree Grid Search Best Accuracy:  0.9499999999999998\n"
     ]
    }
   ],
   "source": [
    "tree = DecisionTreeClassifier()\n",
    "tree_param_grid = {\"max_depth\":[3,5,7],\n",
    "                   \"max_leaf_nodes\":[None,5,10,20,30,50]}\n",
    "\n",
    "nb_cv = 3\n",
    "tree_grid_search = GridSearchCV(tree , tree_param_grid, cv=nb_cv)\n",
    "tree_grid_search.fit(X_train,y_train)\n",
    "print(\"Decision Tree Grid Search Best Parameters: \",tree_grid_search.best_params_)\n",
    "print(\"Decision Tree Grid Search Best Accuracy: \",tree_grid_search.best_score_)"
   ]
  },
  {
   "cell_type": "code",
   "execution_count": 5,
   "id": "722b5f22-39eb-4300-9fdc-944ed637a771",
   "metadata": {
    "tags": []
   },
   "outputs": [
    {
     "name": "stdout",
     "output_type": "stream",
     "text": [
      "Ortalama test skoru:0.9499999999999998, Parametreler:{'max_depth': 3, 'max_leaf_nodes': None}\n",
      "Ortalama test skoru:0.9499999999999998, Parametreler:{'max_depth': 3, 'max_leaf_nodes': 5}\n",
      "Ortalama test skoru:0.9499999999999998, Parametreler:{'max_depth': 3, 'max_leaf_nodes': 10}\n",
      "Ortalama test skoru:0.9333333333333332, Parametreler:{'max_depth': 3, 'max_leaf_nodes': 20}\n",
      "Ortalama test skoru:0.9499999999999998, Parametreler:{'max_depth': 3, 'max_leaf_nodes': 30}\n",
      "Ortalama test skoru:0.9499999999999998, Parametreler:{'max_depth': 3, 'max_leaf_nodes': 50}\n",
      "Ortalama test skoru:0.9416666666666668, Parametreler:{'max_depth': 5, 'max_leaf_nodes': None}\n",
      "Ortalama test skoru:0.9250000000000002, Parametreler:{'max_depth': 5, 'max_leaf_nodes': 5}\n",
      "Ortalama test skoru:0.9333333333333332, Parametreler:{'max_depth': 5, 'max_leaf_nodes': 10}\n",
      "Ortalama test skoru:0.9333333333333332, Parametreler:{'max_depth': 5, 'max_leaf_nodes': 20}\n",
      "Ortalama test skoru:0.9333333333333332, Parametreler:{'max_depth': 5, 'max_leaf_nodes': 30}\n",
      "Ortalama test skoru:0.9333333333333332, Parametreler:{'max_depth': 5, 'max_leaf_nodes': 50}\n",
      "Ortalama test skoru:0.9416666666666668, Parametreler:{'max_depth': 7, 'max_leaf_nodes': None}\n",
      "Ortalama test skoru:0.9333333333333332, Parametreler:{'max_depth': 7, 'max_leaf_nodes': 5}\n",
      "Ortalama test skoru:0.9416666666666668, Parametreler:{'max_depth': 7, 'max_leaf_nodes': 10}\n",
      "Ortalama test skoru:0.9333333333333332, Parametreler:{'max_depth': 7, 'max_leaf_nodes': 20}\n",
      "Ortalama test skoru:0.9333333333333332, Parametreler:{'max_depth': 7, 'max_leaf_nodes': 30}\n",
      "Ortalama test skoru:0.9333333333333332, Parametreler:{'max_depth': 7, 'max_leaf_nodes': 50}\n"
     ]
    }
   ],
   "source": [
    "for mean_score,params in zip(tree_grid_search.cv_results_[\"mean_test_score\"],tree_grid_search.cv_results_[\"params\"]):\n",
    "    print(f\"Ortalama test skoru:{mean_score}, Parametreler:{params}\")"
   ]
  },
  {
   "cell_type": "code",
   "execution_count": null,
   "id": "7f19d346-d30e-41aa-8d3a-71a140fa2a73",
   "metadata": {},
   "outputs": [],
   "source": [
    "# ortalama test skoru : CV=3 fold olsun , her bir parametre için yapılan cross validation sonucunda elde edilen 3 tane\n",
    "# accuracy değerinin ortalaması."
   ]
  },
  {
   "cell_type": "code",
   "execution_count": 6,
   "id": "7bbe1db6-03f1-4a88-bd09-d11ca27b35e2",
   "metadata": {
    "tags": []
   },
   "outputs": [],
   "source": [
    "cv_result = tree_grid_search.cv_results_"
   ]
  },
  {
   "cell_type": "code",
   "execution_count": null,
   "id": "bd765628-ffd2-41a0-a62d-7d9e19b0a4a8",
   "metadata": {},
   "outputs": [],
   "source": [
    "# her bir parametreyi ve bu parametreleri kullanarak CV yaparak elde edilen accuracy değerlerini yazdırırız."
   ]
  },
  {
   "cell_type": "code",
   "execution_count": 7,
   "id": "8bf30855-4192-4890-a338-092d0b83b878",
   "metadata": {
    "tags": []
   },
   "outputs": [
    {
     "name": "stdout",
     "output_type": "stream",
     "text": [
      "Parametreler: {'max_depth': 3, 'max_leaf_nodes': None}\n",
      "\tFold 1 - Accuracy: 1.0\n",
      "\tFold 2 - Accuracy: 0.9\n",
      "\tFold 3 - Accuracy: 0.95\n",
      "Parametreler: {'max_depth': 3, 'max_leaf_nodes': 5}\n",
      "\tFold 1 - Accuracy: 1.0\n",
      "\tFold 2 - Accuracy: 0.9\n",
      "\tFold 3 - Accuracy: 0.95\n",
      "Parametreler: {'max_depth': 3, 'max_leaf_nodes': 10}\n",
      "\tFold 1 - Accuracy: 1.0\n",
      "\tFold 2 - Accuracy: 0.9\n",
      "\tFold 3 - Accuracy: 0.95\n",
      "Parametreler: {'max_depth': 3, 'max_leaf_nodes': 20}\n",
      "\tFold 1 - Accuracy: 0.95\n",
      "\tFold 2 - Accuracy: 0.9\n",
      "\tFold 3 - Accuracy: 0.95\n",
      "Parametreler: {'max_depth': 3, 'max_leaf_nodes': 30}\n",
      "\tFold 1 - Accuracy: 1.0\n",
      "\tFold 2 - Accuracy: 0.9\n",
      "\tFold 3 - Accuracy: 0.95\n",
      "Parametreler: {'max_depth': 3, 'max_leaf_nodes': 50}\n",
      "\tFold 1 - Accuracy: 1.0\n",
      "\tFold 2 - Accuracy: 0.9\n",
      "\tFold 3 - Accuracy: 0.95\n",
      "Parametreler: {'max_depth': 5, 'max_leaf_nodes': None}\n",
      "\tFold 1 - Accuracy: 0.975\n",
      "\tFold 2 - Accuracy: 0.9\n",
      "\tFold 3 - Accuracy: 0.95\n",
      "Parametreler: {'max_depth': 5, 'max_leaf_nodes': 5}\n",
      "\tFold 1 - Accuracy: 0.95\n",
      "\tFold 2 - Accuracy: 0.9\n",
      "\tFold 3 - Accuracy: 0.925\n",
      "Parametreler: {'max_depth': 5, 'max_leaf_nodes': 10}\n",
      "\tFold 1 - Accuracy: 0.95\n",
      "\tFold 2 - Accuracy: 0.9\n",
      "\tFold 3 - Accuracy: 0.95\n",
      "Parametreler: {'max_depth': 5, 'max_leaf_nodes': 20}\n",
      "\tFold 1 - Accuracy: 0.95\n",
      "\tFold 2 - Accuracy: 0.9\n",
      "\tFold 3 - Accuracy: 0.95\n",
      "Parametreler: {'max_depth': 5, 'max_leaf_nodes': 30}\n",
      "\tFold 1 - Accuracy: 0.95\n",
      "\tFold 2 - Accuracy: 0.9\n",
      "\tFold 3 - Accuracy: 0.95\n",
      "Parametreler: {'max_depth': 5, 'max_leaf_nodes': 50}\n",
      "\tFold 1 - Accuracy: 0.95\n",
      "\tFold 2 - Accuracy: 0.9\n",
      "\tFold 3 - Accuracy: 0.95\n",
      "Parametreler: {'max_depth': 7, 'max_leaf_nodes': None}\n",
      "\tFold 1 - Accuracy: 0.975\n",
      "\tFold 2 - Accuracy: 0.9\n",
      "\tFold 3 - Accuracy: 0.95\n",
      "Parametreler: {'max_depth': 7, 'max_leaf_nodes': 5}\n",
      "\tFold 1 - Accuracy: 0.975\n",
      "\tFold 2 - Accuracy: 0.9\n",
      "\tFold 3 - Accuracy: 0.925\n",
      "Parametreler: {'max_depth': 7, 'max_leaf_nodes': 10}\n",
      "\tFold 1 - Accuracy: 0.975\n",
      "\tFold 2 - Accuracy: 0.9\n",
      "\tFold 3 - Accuracy: 0.95\n",
      "Parametreler: {'max_depth': 7, 'max_leaf_nodes': 20}\n",
      "\tFold 1 - Accuracy: 0.95\n",
      "\tFold 2 - Accuracy: 0.9\n",
      "\tFold 3 - Accuracy: 0.95\n",
      "Parametreler: {'max_depth': 7, 'max_leaf_nodes': 30}\n",
      "\tFold 1 - Accuracy: 0.95\n",
      "\tFold 2 - Accuracy: 0.9\n",
      "\tFold 3 - Accuracy: 0.95\n",
      "Parametreler: {'max_depth': 7, 'max_leaf_nodes': 50}\n",
      "\tFold 1 - Accuracy: 0.95\n",
      "\tFold 2 - Accuracy: 0.9\n",
      "\tFold 3 - Accuracy: 0.95\n"
     ]
    }
   ],
   "source": [
    "for i,params in enumerate((cv_result[\"params\"])):\n",
    "    print(f\"Parametreler: {params}\")\n",
    "    for j in range(nb_cv):\n",
    "        accuracy = cv_result[f\"split{j}_test_score\"][i]\n",
    "        print(f\"\\tFold {j+1} - Accuracy: {accuracy}\")"
   ]
  },
  {
   "cell_type": "code",
   "execution_count": null,
   "id": "8426cb71-e610-409e-a8d3-da456e5785ed",
   "metadata": {},
   "outputs": [],
   "source": []
  }
 ],
 "metadata": {
  "kernelspec": {
   "display_name": "Python 3 (ipykernel)",
   "language": "python",
   "name": "python3"
  },
  "language_info": {
   "codemirror_mode": {
    "name": "ipython",
    "version": 3
   },
   "file_extension": ".py",
   "mimetype": "text/x-python",
   "name": "python",
   "nbconvert_exporter": "python",
   "pygments_lexer": "ipython3",
   "version": "3.11.3"
  }
 },
 "nbformat": 4,
 "nbformat_minor": 5
}
