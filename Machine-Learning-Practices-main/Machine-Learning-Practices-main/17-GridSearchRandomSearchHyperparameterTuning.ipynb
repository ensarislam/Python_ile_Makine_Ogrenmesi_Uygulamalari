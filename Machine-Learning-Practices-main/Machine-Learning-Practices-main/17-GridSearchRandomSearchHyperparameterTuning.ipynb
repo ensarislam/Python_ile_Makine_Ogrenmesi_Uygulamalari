{
 "cells": [
  {
   "cell_type": "code",
   "execution_count": 1,
   "id": "85d4f243-a78c-4206-9749-975c2b6cddf4",
   "metadata": {
    "tags": []
   },
   "outputs": [],
   "source": [
    "from sklearn.datasets import load_iris\n",
    "from sklearn.model_selection import train_test_split, GridSearchCV ,RandomizedSearchCV\n",
    "from sklearn.neighbors import KNeighborsClassifier\n",
    "from sklearn.tree import DecisionTreeClassifier\n",
    "from sklearn.svm import SVC\n",
    "\n",
    "import numpy as np"
   ]
  },
  {
   "cell_type": "code",
   "execution_count": null,
   "id": "7371f4d4-9a3c-49fa-b746-659c820e049c",
   "metadata": {},
   "outputs": [],
   "source": [
    "# iris veri seti üzerinde 3 sınıflandırma modeli oluşturcaz ve modellerin hiperparametrelerini Grid Search ve Random Search \n",
    "# Cross Validation yöntemlerini kullanarak hiperparametre ayarlaması yaparız.\n",
    "\n",
    "# Grid Search ve Random Search yöntemleri modellerin alabileceği en iyi parametre değerlerini ve bu değerlere karşılık gelen \n",
    "# en iyi accuracy değerlerini verir."
   ]
  },
  {
   "cell_type": "code",
   "execution_count": 2,
   "id": "49538fc0-05ba-4aa3-9e43-51ec68c62a5a",
   "metadata": {
    "tags": []
   },
   "outputs": [],
   "source": [
    "iris = load_iris()\n",
    "X = iris.data\n",
    "y = iris.target"
   ]
  },
  {
   "cell_type": "code",
   "execution_count": 3,
   "id": "b1a99eb3-f916-43bb-b105-bbd5d395a0ff",
   "metadata": {
    "tags": []
   },
   "outputs": [],
   "source": [
    "X_train,X_test,y_train,y_test = train_test_split(X,y,test_size=0.2,random_state=42)"
   ]
  },
  {
   "cell_type": "markdown",
   "id": "9d3f728e-2fb3-4881-9d86-c23026dbf5ac",
   "metadata": {},
   "source": [
    "## KNN"
   ]
  },
  {
   "cell_type": "code",
   "execution_count": 4,
   "id": "5d78cb2a-e981-4333-99cc-48d6ef24924d",
   "metadata": {
    "tags": []
   },
   "outputs": [
    {
     "name": "stdout",
     "output_type": "stream",
     "text": [
      "KNN Grid Search Best Parameters:  {'n_neighbors': 3}\n",
      "KNN Grid Search Best Accuracy:  0.9583333333333334\n",
      "KNN Random Search Best Parameters:  {'n_neighbors': 3}\n",
      "KNN Random Search Best Accuracy:  0.9583333333333334\n"
     ]
    }
   ],
   "source": [
    "knn = KNeighborsClassifier()\n",
    "knn_param_grid = {\"n_neighbors\" : np.arange(2,31)}\n",
    "\n",
    "knn_grid_search = GridSearchCV(knn , knn_param_grid)\n",
    "knn_grid_search.fit(X_train,y_train)\n",
    "print(\"KNN Grid Search Best Parameters: \",knn_grid_search.best_params_)\n",
    "print(\"KNN Grid Search Best Accuracy: \",knn_grid_search.best_score_)\n",
    "\n",
    "knn_random_search = RandomizedSearchCV(knn , knn_param_grid, n_iter=10)\n",
    "knn_random_search.fit(X_train,y_train)\n",
    "print(\"KNN Random Search Best Parameters: \",knn_random_search.best_params_)\n",
    "print(\"KNN Random Search Best Accuracy: \",knn_random_search.best_score_)"
   ]
  },
  {
   "cell_type": "markdown",
   "id": "2091ba2a-3862-4069-95b5-0aa734ba9d70",
   "metadata": {},
   "source": [
    "## Decision Tree"
   ]
  },
  {
   "cell_type": "code",
   "execution_count": 5,
   "id": "67334b7d-5fe9-469d-976c-fbddd973b044",
   "metadata": {
    "tags": []
   },
   "outputs": [
    {
     "name": "stdout",
     "output_type": "stream",
     "text": [
      "Decision Tree Grid Search Best Parameters:  {'max_depth': 5, 'max_leaf_nodes': 5}\n",
      "Decision Tree Grid Search Best Accuracy:  0.9416666666666668\n",
      "Decision Tree Random Search Best Parameters:  {'max_depth': 5, 'max_leaf_nodes': 5}\n",
      "Decision Tree Random Search Best Accuracy:  0.9416666666666668\n"
     ]
    }
   ],
   "source": [
    "tree = DecisionTreeClassifier()\n",
    "tree_param_grid = {\"max_depth\":[3,5,7],\n",
    "                   \"max_leaf_nodes\":[None,5,10,20,30,50]}\n",
    "\n",
    "tree_grid_search = GridSearchCV(tree , tree_param_grid)\n",
    "tree_grid_search.fit(X_train,y_train)\n",
    "print(\"Decision Tree Grid Search Best Parameters: \",tree_grid_search.best_params_)\n",
    "print(\"Decision Tree Grid Search Best Accuracy: \",tree_grid_search.best_score_)\n",
    "\n",
    "tree_random_search = RandomizedSearchCV(tree , tree_param_grid, n_iter=10)\n",
    "tree_random_search.fit(X_train,y_train)\n",
    "print(\"Decision Tree Random Search Best Parameters: \",tree_grid_search.best_params_)\n",
    "print(\"Decision Tree Random Search Best Accuracy: \",tree_grid_search.best_score_)"
   ]
  },
  {
   "cell_type": "markdown",
   "id": "a5ee05fb-11bd-4e78-be15-9eb3c9ac8f8d",
   "metadata": {},
   "source": [
    "## SVM"
   ]
  },
  {
   "cell_type": "code",
   "execution_count": 6,
   "id": "50068e3a-180e-40a4-936a-21433e49985f",
   "metadata": {
    "tags": []
   },
   "outputs": [
    {
     "name": "stdout",
     "output_type": "stream",
     "text": [
      "SVM Grid Search Best Parameters:  {'C': 100, 'gamma': 0.01}\n",
      "SVM Grid Search Best Accuracy:  0.9583333333333334\n",
      "SVM Random Search Best Parameters:  {'C': 100, 'gamma': 0.01}\n",
      "SVM Random Search Best Accuracy:  0.9583333333333334\n"
     ]
    }
   ],
   "source": [
    "svm = SVC()\n",
    "svm_param_grid = {\"C\":[0.1, 1, 10,100],\n",
    "                  \"gamma\":[0.1, 0.01,0.001,0.0001]}\n",
    "\n",
    "svm_grid_search = GridSearchCV(svm , svm_param_grid)\n",
    "svm_grid_search.fit(X_train,y_train)\n",
    "print(\"SVM Grid Search Best Parameters: \",svm_grid_search.best_params_)\n",
    "print(\"SVM Grid Search Best Accuracy: \",svm_grid_search.best_score_)\n",
    "\n",
    "svm_random_search = RandomizedSearchCV(svm , svm_param_grid, n_iter=10)\n",
    "svm_random_search.fit(X_train,y_train)\n",
    "print(\"SVM Random Search Best Parameters: \",svm_grid_search.best_params_)\n",
    "print(\"SVM Random Search Best Accuracy: \",svm_grid_search.best_score_)"
   ]
  },
  {
   "cell_type": "code",
   "execution_count": null,
   "id": "112de754-459f-4c3a-b4de-7aefdec460f9",
   "metadata": {},
   "outputs": [],
   "source": []
  }
 ],
 "metadata": {
  "kernelspec": {
   "display_name": "Python 3 (ipykernel)",
   "language": "python",
   "name": "python3"
  },
  "language_info": {
   "codemirror_mode": {
    "name": "ipython",
    "version": 3
   },
   "file_extension": ".py",
   "mimetype": "text/x-python",
   "name": "python",
   "nbconvert_exporter": "python",
   "pygments_lexer": "ipython3",
   "version": "3.11.3"
  }
 },
 "nbformat": 4,
 "nbformat_minor": 5
}
